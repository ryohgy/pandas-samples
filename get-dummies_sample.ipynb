{
 "metadata": {
  "language_info": {
   "codemirror_mode": {
    "name": "ipython",
    "version": 3
   },
   "file_extension": ".py",
   "mimetype": "text/x-python",
   "name": "python",
   "nbconvert_exporter": "python",
   "pygments_lexer": "ipython3",
   "version": "3.8.3-final"
  },
  "orig_nbformat": 2,
  "kernelspec": {
   "name": "python_defaultSpec_1600761983147",
   "display_name": "Python 3.8.3 64-bit"
  }
 },
 "nbformat": 4,
 "nbformat_minor": 2,
 "cells": [
  {
   "cell_type": "code",
   "execution_count": 12,
   "metadata": {},
   "outputs": [],
   "source": [
    "import pandas as pd"
   ]
  },
  {
   "cell_type": "code",
   "execution_count": 13,
   "metadata": {},
   "outputs": [
    {
     "output_type": "execute_result",
     "data": {
      "text/plain": "           weather temperature  rainfall\ndate                                    \n2020-09-01   sunny        high       0.0\n2020-09-02   sunny      middle       0.0\n2020-09-03  cloudy        None       NaN\n2020-09-04   rainy         low       3.0\n2020-09-05   rainy         low       2.0\n2020-09-06   sunny      middle       NaN\n2020-09-07   sunny        None       0.0",
      "text/html": "<div>\n<style scoped>\n    .dataframe tbody tr th:only-of-type {\n        vertical-align: middle;\n    }\n\n    .dataframe tbody tr th {\n        vertical-align: top;\n    }\n\n    .dataframe thead th {\n        text-align: right;\n    }\n</style>\n<table border=\"1\" class=\"dataframe\">\n  <thead>\n    <tr style=\"text-align: right;\">\n      <th></th>\n      <th>weather</th>\n      <th>temperature</th>\n      <th>rainfall</th>\n    </tr>\n    <tr>\n      <th>date</th>\n      <th></th>\n      <th></th>\n      <th></th>\n    </tr>\n  </thead>\n  <tbody>\n    <tr>\n      <th>2020-09-01</th>\n      <td>sunny</td>\n      <td>high</td>\n      <td>0.0</td>\n    </tr>\n    <tr>\n      <th>2020-09-02</th>\n      <td>sunny</td>\n      <td>middle</td>\n      <td>0.0</td>\n    </tr>\n    <tr>\n      <th>2020-09-03</th>\n      <td>cloudy</td>\n      <td>None</td>\n      <td>NaN</td>\n    </tr>\n    <tr>\n      <th>2020-09-04</th>\n      <td>rainy</td>\n      <td>low</td>\n      <td>3.0</td>\n    </tr>\n    <tr>\n      <th>2020-09-05</th>\n      <td>rainy</td>\n      <td>low</td>\n      <td>2.0</td>\n    </tr>\n    <tr>\n      <th>2020-09-06</th>\n      <td>sunny</td>\n      <td>middle</td>\n      <td>NaN</td>\n    </tr>\n    <tr>\n      <th>2020-09-07</th>\n      <td>sunny</td>\n      <td>None</td>\n      <td>0.0</td>\n    </tr>\n  </tbody>\n</table>\n</div>"
     },
     "metadata": {},
     "execution_count": 13
    }
   ],
   "source": [
    "data = [\n",
    "    ['2020-09-01', 'sunny', 'high', 0],\n",
    "    ['2020-09-02', 'sunny', 'middle', 0],\n",
    "    ['2020-09-03', 'cloudy', None, None],\n",
    "    ['2020-09-04', 'rainy', 'low', 3],\n",
    "    ['2020-09-05', 'rainy', 'low', 2],\n",
    "    ['2020-09-06', 'sunny', 'middle', None],\n",
    "    ['2020-09-07', 'sunny', None, 0],\n",
    "]\n",
    "\n",
    "df = pd.DataFrame(data, columns=['date', 'weather', 'temperature', 'rainfall'])\n",
    "df = df.set_index('date')\n",
    "\n",
    "df"
   ]
  },
  {
   "cell_type": "code",
   "execution_count": 14,
   "metadata": {},
   "outputs": [
    {
     "output_type": "execute_result",
     "data": {
      "text/plain": "            rainfall  weather_cloudy  weather_rainy  weather_sunny  \\\ndate                                                                 \n2020-09-01       0.0               0              0              1   \n2020-09-02       0.0               0              0              1   \n2020-09-03       NaN               1              0              0   \n2020-09-04       3.0               0              1              0   \n2020-09-05       2.0               0              1              0   \n2020-09-06       NaN               0              0              1   \n2020-09-07       0.0               0              0              1   \n\n            temperature_high  temperature_low  temperature_middle  \ndate                                                               \n2020-09-01                 1                0                   0  \n2020-09-02                 0                0                   1  \n2020-09-03                 0                0                   0  \n2020-09-04                 0                1                   0  \n2020-09-05                 0                1                   0  \n2020-09-06                 0                0                   1  \n2020-09-07                 0                0                   0  ",
      "text/html": "<div>\n<style scoped>\n    .dataframe tbody tr th:only-of-type {\n        vertical-align: middle;\n    }\n\n    .dataframe tbody tr th {\n        vertical-align: top;\n    }\n\n    .dataframe thead th {\n        text-align: right;\n    }\n</style>\n<table border=\"1\" class=\"dataframe\">\n  <thead>\n    <tr style=\"text-align: right;\">\n      <th></th>\n      <th>rainfall</th>\n      <th>weather_cloudy</th>\n      <th>weather_rainy</th>\n      <th>weather_sunny</th>\n      <th>temperature_high</th>\n      <th>temperature_low</th>\n      <th>temperature_middle</th>\n    </tr>\n    <tr>\n      <th>date</th>\n      <th></th>\n      <th></th>\n      <th></th>\n      <th></th>\n      <th></th>\n      <th></th>\n      <th></th>\n    </tr>\n  </thead>\n  <tbody>\n    <tr>\n      <th>2020-09-01</th>\n      <td>0.0</td>\n      <td>0</td>\n      <td>0</td>\n      <td>1</td>\n      <td>1</td>\n      <td>0</td>\n      <td>0</td>\n    </tr>\n    <tr>\n      <th>2020-09-02</th>\n      <td>0.0</td>\n      <td>0</td>\n      <td>0</td>\n      <td>1</td>\n      <td>0</td>\n      <td>0</td>\n      <td>1</td>\n    </tr>\n    <tr>\n      <th>2020-09-03</th>\n      <td>NaN</td>\n      <td>1</td>\n      <td>0</td>\n      <td>0</td>\n      <td>0</td>\n      <td>0</td>\n      <td>0</td>\n    </tr>\n    <tr>\n      <th>2020-09-04</th>\n      <td>3.0</td>\n      <td>0</td>\n      <td>1</td>\n      <td>0</td>\n      <td>0</td>\n      <td>1</td>\n      <td>0</td>\n    </tr>\n    <tr>\n      <th>2020-09-05</th>\n      <td>2.0</td>\n      <td>0</td>\n      <td>1</td>\n      <td>0</td>\n      <td>0</td>\n      <td>1</td>\n      <td>0</td>\n    </tr>\n    <tr>\n      <th>2020-09-06</th>\n      <td>NaN</td>\n      <td>0</td>\n      <td>0</td>\n      <td>1</td>\n      <td>0</td>\n      <td>0</td>\n      <td>1</td>\n    </tr>\n    <tr>\n      <th>2020-09-07</th>\n      <td>0.0</td>\n      <td>0</td>\n      <td>0</td>\n      <td>1</td>\n      <td>0</td>\n      <td>0</td>\n      <td>0</td>\n    </tr>\n  </tbody>\n</table>\n</div>"
     },
     "metadata": {},
     "execution_count": 14
    }
   ],
   "source": [
    "pd.get_dummies(df, columns=['weather', 'temperature'])"
   ]
  },
  {
   "cell_type": "code",
   "execution_count": 15,
   "metadata": {},
   "outputs": [
    {
     "output_type": "execute_result",
     "data": {
      "text/plain": "            rainfall  weather_cloudy  weather_rainy  weather_sunny  \\\ndate                                                                 \n2020-09-01       0.0               0              0              1   \n2020-09-02       0.0               0              0              1   \n2020-09-03       NaN               1              0              0   \n2020-09-04       3.0               0              1              0   \n2020-09-05       2.0               0              1              0   \n2020-09-06       NaN               0              0              1   \n2020-09-07       0.0               0              0              1   \n\n            weather_nan  temperature_high  temperature_low  \\\ndate                                                         \n2020-09-01            0                 1                0   \n2020-09-02            0                 0                0   \n2020-09-03            0                 0                0   \n2020-09-04            0                 0                1   \n2020-09-05            0                 0                1   \n2020-09-06            0                 0                0   \n2020-09-07            0                 0                0   \n\n            temperature_middle  temperature_nan  \ndate                                             \n2020-09-01                   0                0  \n2020-09-02                   1                0  \n2020-09-03                   0                1  \n2020-09-04                   0                0  \n2020-09-05                   0                0  \n2020-09-06                   1                0  \n2020-09-07                   0                1  ",
      "text/html": "<div>\n<style scoped>\n    .dataframe tbody tr th:only-of-type {\n        vertical-align: middle;\n    }\n\n    .dataframe tbody tr th {\n        vertical-align: top;\n    }\n\n    .dataframe thead th {\n        text-align: right;\n    }\n</style>\n<table border=\"1\" class=\"dataframe\">\n  <thead>\n    <tr style=\"text-align: right;\">\n      <th></th>\n      <th>rainfall</th>\n      <th>weather_cloudy</th>\n      <th>weather_rainy</th>\n      <th>weather_sunny</th>\n      <th>weather_nan</th>\n      <th>temperature_high</th>\n      <th>temperature_low</th>\n      <th>temperature_middle</th>\n      <th>temperature_nan</th>\n    </tr>\n    <tr>\n      <th>date</th>\n      <th></th>\n      <th></th>\n      <th></th>\n      <th></th>\n      <th></th>\n      <th></th>\n      <th></th>\n      <th></th>\n      <th></th>\n    </tr>\n  </thead>\n  <tbody>\n    <tr>\n      <th>2020-09-01</th>\n      <td>0.0</td>\n      <td>0</td>\n      <td>0</td>\n      <td>1</td>\n      <td>0</td>\n      <td>1</td>\n      <td>0</td>\n      <td>0</td>\n      <td>0</td>\n    </tr>\n    <tr>\n      <th>2020-09-02</th>\n      <td>0.0</td>\n      <td>0</td>\n      <td>0</td>\n      <td>1</td>\n      <td>0</td>\n      <td>0</td>\n      <td>0</td>\n      <td>1</td>\n      <td>0</td>\n    </tr>\n    <tr>\n      <th>2020-09-03</th>\n      <td>NaN</td>\n      <td>1</td>\n      <td>0</td>\n      <td>0</td>\n      <td>0</td>\n      <td>0</td>\n      <td>0</td>\n      <td>0</td>\n      <td>1</td>\n    </tr>\n    <tr>\n      <th>2020-09-04</th>\n      <td>3.0</td>\n      <td>0</td>\n      <td>1</td>\n      <td>0</td>\n      <td>0</td>\n      <td>0</td>\n      <td>1</td>\n      <td>0</td>\n      <td>0</td>\n    </tr>\n    <tr>\n      <th>2020-09-05</th>\n      <td>2.0</td>\n      <td>0</td>\n      <td>1</td>\n      <td>0</td>\n      <td>0</td>\n      <td>0</td>\n      <td>1</td>\n      <td>0</td>\n      <td>0</td>\n    </tr>\n    <tr>\n      <th>2020-09-06</th>\n      <td>NaN</td>\n      <td>0</td>\n      <td>0</td>\n      <td>1</td>\n      <td>0</td>\n      <td>0</td>\n      <td>0</td>\n      <td>1</td>\n      <td>0</td>\n    </tr>\n    <tr>\n      <th>2020-09-07</th>\n      <td>0.0</td>\n      <td>0</td>\n      <td>0</td>\n      <td>1</td>\n      <td>0</td>\n      <td>0</td>\n      <td>0</td>\n      <td>0</td>\n      <td>1</td>\n    </tr>\n  </tbody>\n</table>\n</div>"
     },
     "metadata": {},
     "execution_count": 15
    }
   ],
   "source": [
    "pd.get_dummies(df, columns=['weather', 'temperature'], dummy_na=True)"
   ]
  },
  {
   "cell_type": "code",
   "execution_count": 16,
   "metadata": {},
   "outputs": [
    {
     "output_type": "execute_result",
     "data": {
      "text/plain": "            rainfall  weather_rainy  weather_sunny  weather_nan  \\\ndate                                                              \n2020-09-01       0.0              0              1            0   \n2020-09-02       0.0              0              1            0   \n2020-09-03       NaN              0              0            0   \n2020-09-04       3.0              1              0            0   \n2020-09-05       2.0              1              0            0   \n2020-09-06       NaN              0              1            0   \n2020-09-07       0.0              0              1            0   \n\n            temperature_low  temperature_middle  temperature_nan  \ndate                                                              \n2020-09-01                0                   0                0  \n2020-09-02                0                   1                0  \n2020-09-03                0                   0                1  \n2020-09-04                1                   0                0  \n2020-09-05                1                   0                0  \n2020-09-06                0                   1                0  \n2020-09-07                0                   0                1  ",
      "text/html": "<div>\n<style scoped>\n    .dataframe tbody tr th:only-of-type {\n        vertical-align: middle;\n    }\n\n    .dataframe tbody tr th {\n        vertical-align: top;\n    }\n\n    .dataframe thead th {\n        text-align: right;\n    }\n</style>\n<table border=\"1\" class=\"dataframe\">\n  <thead>\n    <tr style=\"text-align: right;\">\n      <th></th>\n      <th>rainfall</th>\n      <th>weather_rainy</th>\n      <th>weather_sunny</th>\n      <th>weather_nan</th>\n      <th>temperature_low</th>\n      <th>temperature_middle</th>\n      <th>temperature_nan</th>\n    </tr>\n    <tr>\n      <th>date</th>\n      <th></th>\n      <th></th>\n      <th></th>\n      <th></th>\n      <th></th>\n      <th></th>\n      <th></th>\n    </tr>\n  </thead>\n  <tbody>\n    <tr>\n      <th>2020-09-01</th>\n      <td>0.0</td>\n      <td>0</td>\n      <td>1</td>\n      <td>0</td>\n      <td>0</td>\n      <td>0</td>\n      <td>0</td>\n    </tr>\n    <tr>\n      <th>2020-09-02</th>\n      <td>0.0</td>\n      <td>0</td>\n      <td>1</td>\n      <td>0</td>\n      <td>0</td>\n      <td>1</td>\n      <td>0</td>\n    </tr>\n    <tr>\n      <th>2020-09-03</th>\n      <td>NaN</td>\n      <td>0</td>\n      <td>0</td>\n      <td>0</td>\n      <td>0</td>\n      <td>0</td>\n      <td>1</td>\n    </tr>\n    <tr>\n      <th>2020-09-04</th>\n      <td>3.0</td>\n      <td>1</td>\n      <td>0</td>\n      <td>0</td>\n      <td>1</td>\n      <td>0</td>\n      <td>0</td>\n    </tr>\n    <tr>\n      <th>2020-09-05</th>\n      <td>2.0</td>\n      <td>1</td>\n      <td>0</td>\n      <td>0</td>\n      <td>1</td>\n      <td>0</td>\n      <td>0</td>\n    </tr>\n    <tr>\n      <th>2020-09-06</th>\n      <td>NaN</td>\n      <td>0</td>\n      <td>1</td>\n      <td>0</td>\n      <td>0</td>\n      <td>1</td>\n      <td>0</td>\n    </tr>\n    <tr>\n      <th>2020-09-07</th>\n      <td>0.0</td>\n      <td>0</td>\n      <td>1</td>\n      <td>0</td>\n      <td>0</td>\n      <td>0</td>\n      <td>1</td>\n    </tr>\n  </tbody>\n</table>\n</div>"
     },
     "metadata": {},
     "execution_count": 16
    }
   ],
   "source": [
    "pd.get_dummies(df, columns=['weather', 'temperature'], dummy_na=True, drop_first=True)"
   ]
  }
 ]
}